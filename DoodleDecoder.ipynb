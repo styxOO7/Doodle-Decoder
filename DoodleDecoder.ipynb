{
  "nbformat": 4,
  "nbformat_minor": 0,
  "metadata": {
    "colab": {
      "provenance": [],
      "toc_visible": true
    },
    "kernelspec": {
      "name": "python3",
      "display_name": "Python 3"
    },
    "language_info": {
      "name": "python"
    }
  },
  "cells": [
    {
      "cell_type": "markdown",
      "source": [
        "## Install dependencies:"
      ],
      "metadata": {
        "id": "7Zpayl0qDFBt"
      }
    },
    {
      "cell_type": "code",
      "execution_count": null,
      "metadata": {
        "id": "4yyAlxFMsD3B"
      },
      "outputs": [],
      "source": [
        "import urllib.request\n",
        "import pandas as pd\n",
        "import numpy as np\n",
        "import matplotlib.pyplot as plt\n",
        "import tensorflow as tf"
      ]
    },
    {
      "cell_type": "markdown",
      "source": [
        "## Define Classes and labels:"
      ],
      "metadata": {
        "id": "bTOZfS8vDH2W"
      }
    },
    {
      "cell_type": "code",
      "execution_count": null,
      "metadata": {
        "id": "KFLW_CO69oFb",
        "colab": {
          "base_uri": "https://localhost:8080/"
        },
        "outputId": "c4751ed7-dd71-4d9e-9fba-1997148f6dc6"
      },
      "outputs": [
        {
          "output_type": "execute_result",
          "data": {
            "text/plain": [
              "['car',\n",
              " 'house',\n",
              " 'wine bottle',\n",
              " 'chair',\n",
              " 'table',\n",
              " 'tree',\n",
              " 'camera',\n",
              " 'fish',\n",
              " 'rain',\n",
              " 'clock',\n",
              " 'hat']"
            ]
          },
          "metadata": {},
          "execution_count": 53
        }
      ],
      "source": [
        "classes = ['Car','House','wine bottle','Chair','Table','Tree','camera','Fish','rain','Clock','Hat']\n",
        "classes = [x.lower() for x in classes]\n",
        "classes"
      ]
    },
    {
      "cell_type": "code",
      "execution_count": null,
      "metadata": {
        "colab": {
          "base_uri": "https://localhost:8080/"
        },
        "id": "ApJpNoNP9oFe",
        "outputId": "14aba992-36a8-44ee-e61a-957d6682af83"
      },
      "outputs": [
        {
          "output_type": "execute_result",
          "data": {
            "text/plain": [
              "{'car': 0,\n",
              " 'house': 1,\n",
              " 'wine bottle': 2,\n",
              " 'chair': 3,\n",
              " 'table': 4,\n",
              " 'tree': 5,\n",
              " 'camera': 6,\n",
              " 'fish': 7,\n",
              " 'rain': 8,\n",
              " 'clock': 9,\n",
              " 'hat': 10}"
            ]
          },
          "metadata": {},
          "execution_count": 3
        }
      ],
      "source": [
        "# labels:\n",
        "labels = {}\n",
        "\n",
        "count = 0\n",
        "for class_name in classes:\n",
        "  labels[class_name] = count\n",
        "  count += 1\n",
        "\n",
        "labels"
      ]
    },
    {
      "cell_type": "markdown",
      "metadata": {
        "id": "4pCQ8PE19ud4"
      },
      "source": [
        "## Download dataset:"
      ]
    },
    {
      "cell_type": "code",
      "execution_count": null,
      "metadata": {
        "id": "qSNXFATD9wU1"
      },
      "outputs": [],
      "source": [
        "def download_dataset(num_images, classes):\n",
        "    base = 'https://storage.googleapis.com/quickdraw_dataset/full/numpy_bitmap/'\n",
        "    for c in classes:\n",
        "        cls_url = c.replace(' ', '%20')\n",
        "        path = base+cls_url+'.npy'\n",
        "        print(path)\n",
        "        urllib.request.urlretrieve(path, '/content/drive/MyDrive/DS Data /QuickDraw/data/'+c+'.npy')\n",
        "        data = np.load('/content/drive/MyDrive/DS Data /QuickDraw/data/'+c+'.npy')\n",
        "        print(data.shape)\n",
        "        if len(data) > num_images:\n",
        "            data = data[:num_images]\n",
        "        np.save('/content/drive/MyDrive/DS Data /QuickDraw/data//'+c+'.npy', data)"
      ]
    },
    {
      "cell_type": "code",
      "execution_count": null,
      "metadata": {
        "colab": {
          "base_uri": "https://localhost:8080/"
        },
        "id": "pYJmM45h9zS1",
        "outputId": "c3287259-68fb-45cc-ce23-4fb5d645b1a4"
      },
      "outputs": [
        {
          "name": "stdout",
          "output_type": "stream",
          "text": [
            "https://storage.googleapis.com/quickdraw_dataset/full/numpy_bitmap/car.npy\n",
            "(182764, 784)\n",
            "https://storage.googleapis.com/quickdraw_dataset/full/numpy_bitmap/cat.npy\n",
            "(123202, 784)\n",
            "https://storage.googleapis.com/quickdraw_dataset/full/numpy_bitmap/computer.npy\n",
            "(123885, 784)\n",
            "https://storage.googleapis.com/quickdraw_dataset/full/numpy_bitmap/house.npy\n",
            "(135420, 784)\n",
            "https://storage.googleapis.com/quickdraw_dataset/full/numpy_bitmap/wine%20bottle.npy\n",
            "(126373, 784)\n",
            "https://storage.googleapis.com/quickdraw_dataset/full/numpy_bitmap/sword.npy\n",
            "(123802, 784)\n",
            "https://storage.googleapis.com/quickdraw_dataset/full/numpy_bitmap/bed.npy\n",
            "(113862, 784)\n",
            "https://storage.googleapis.com/quickdraw_dataset/full/numpy_bitmap/chair.npy\n",
            "(222706, 784)\n",
            "https://storage.googleapis.com/quickdraw_dataset/full/numpy_bitmap/table.npy\n",
            "(128021, 784)\n",
            "https://storage.googleapis.com/quickdraw_dataset/full/numpy_bitmap/door.npy\n",
            "(120230, 784)\n",
            "https://storage.googleapis.com/quickdraw_dataset/full/numpy_bitmap/cake.npy\n",
            "(124905, 784)\n",
            "https://storage.googleapis.com/quickdraw_dataset/full/numpy_bitmap/tree.npy\n",
            "(144721, 784)\n",
            "https://storage.googleapis.com/quickdraw_dataset/full/numpy_bitmap/camera.npy\n",
            "(128772, 784)\n",
            "https://storage.googleapis.com/quickdraw_dataset/full/numpy_bitmap/bird.npy\n",
            "(133572, 784)\n",
            "https://storage.googleapis.com/quickdraw_dataset/full/numpy_bitmap/fish.npy\n",
            "(134150, 784)\n",
            "https://storage.googleapis.com/quickdraw_dataset/full/numpy_bitmap/rain.npy\n",
            "(134680, 784)\n",
            "https://storage.googleapis.com/quickdraw_dataset/full/numpy_bitmap/sun.npy\n",
            "(133781, 784)\n",
            "https://storage.googleapis.com/quickdraw_dataset/full/numpy_bitmap/moon.npy\n",
            "(121661, 784)\n",
            "https://storage.googleapis.com/quickdraw_dataset/full/numpy_bitmap/clock.npy\n",
            "(120536, 784)\n",
            "https://storage.googleapis.com/quickdraw_dataset/full/numpy_bitmap/hat.npy\n",
            "(222610, 784)\n"
          ]
        }
      ],
      "source": [
        "download_dataset(30000, classes)"
      ]
    },
    {
      "cell_type": "code",
      "execution_count": null,
      "metadata": {
        "colab": {
          "base_uri": "https://localhost:8080/"
        },
        "id": "ooaK_-fv9457",
        "outputId": "a7f6b36a-c4ae-4be3-f51e-903deedb0f4c"
      },
      "outputs": [
        {
          "name": "stdout",
          "output_type": "stream",
          "text": [
            "(30000, 28, 28)\n",
            "(30000, 28, 28)\n",
            "(30000, 28, 28)\n",
            "(30000, 28, 28)\n",
            "(30000, 28, 28)\n",
            "(30000, 28, 28)\n",
            "(30000, 28, 28)\n",
            "(30000, 28, 28)\n",
            "(30000, 28, 28)\n",
            "(30000, 28, 28)\n",
            "(30000, 28, 28)\n"
          ]
        }
      ],
      "source": [
        "for class_name in classes:\n",
        "  target = labels[class_name]\n",
        "  images = np.load('/content/drive/MyDrive/DS Data /QuickDraw/data/' + class_name + '.npy')\n",
        "  images = images.reshape((-1, 28, 28))\n",
        "  print(images.shape)"
      ]
    },
    {
      "cell_type": "markdown",
      "metadata": {
        "id": "n7rY1pnE73xq"
      },
      "source": [
        "## Build features and labels:"
      ]
    },
    {
      "cell_type": "code",
      "execution_count": null,
      "metadata": {
        "id": "rdOPqLwwr2M_"
      },
      "outputs": [],
      "source": [
        "num_classes = len(classes)\n",
        "X = np.empty((0, 28, 28))\n",
        "y = np.empty((0))\n",
        "\n",
        "for class_name in classes:\n",
        "  target = labels[class_name]\n",
        "  images = np.load('/content/drive/MyDrive/DS Data /QuickDraw/data/' + class_name + '.npy')[:30000]\n",
        "  images = images.reshape((-1, 28, 28))\n",
        "\n",
        "  X = np.concatenate([X, images], axis=0)\n",
        "  y = np.concatenate([y, np.full(images.shape[0], target)], axis=0)"
      ]
    },
    {
      "cell_type": "code",
      "execution_count": null,
      "metadata": {
        "colab": {
          "base_uri": "https://localhost:8080/"
        },
        "id": "df5ARliVsAIn",
        "outputId": "d5312005-8174-41e9-cc6f-a0f2bf20e815"
      },
      "outputs": [
        {
          "output_type": "execute_result",
          "data": {
            "text/plain": [
              "array([[[0., 0., 0., ..., 0., 0., 0.],\n",
              "        [0., 0., 0., ..., 0., 0., 0.],\n",
              "        [0., 0., 0., ..., 0., 0., 0.],\n",
              "        ...,\n",
              "        [0., 0., 0., ..., 0., 0., 0.],\n",
              "        [0., 0., 0., ..., 0., 0., 0.],\n",
              "        [0., 0., 0., ..., 0., 0., 0.]],\n",
              "\n",
              "       [[0., 0., 0., ..., 0., 0., 0.],\n",
              "        [0., 0., 0., ..., 0., 0., 0.],\n",
              "        [0., 0., 0., ..., 0., 0., 0.],\n",
              "        ...,\n",
              "        [0., 0., 0., ..., 0., 0., 0.],\n",
              "        [0., 0., 0., ..., 0., 0., 0.],\n",
              "        [0., 0., 0., ..., 0., 0., 0.]],\n",
              "\n",
              "       [[0., 0., 0., ..., 0., 0., 0.],\n",
              "        [0., 0., 0., ..., 0., 0., 0.],\n",
              "        [0., 0., 0., ..., 0., 0., 0.],\n",
              "        ...,\n",
              "        [0., 0., 0., ..., 0., 0., 0.],\n",
              "        [0., 0., 0., ..., 0., 0., 0.],\n",
              "        [0., 0., 0., ..., 0., 0., 0.]],\n",
              "\n",
              "       ...,\n",
              "\n",
              "       [[0., 0., 0., ..., 0., 0., 0.],\n",
              "        [0., 0., 0., ..., 0., 0., 0.],\n",
              "        [0., 0., 0., ..., 0., 0., 0.],\n",
              "        ...,\n",
              "        [0., 0., 0., ..., 0., 0., 0.],\n",
              "        [0., 0., 0., ..., 0., 0., 0.],\n",
              "        [0., 0., 0., ..., 0., 0., 0.]],\n",
              "\n",
              "       [[0., 0., 0., ..., 0., 0., 0.],\n",
              "        [0., 0., 0., ..., 0., 0., 0.],\n",
              "        [0., 0., 0., ..., 0., 0., 0.],\n",
              "        ...,\n",
              "        [0., 0., 0., ..., 0., 0., 0.],\n",
              "        [0., 0., 0., ..., 0., 0., 0.],\n",
              "        [0., 0., 0., ..., 0., 0., 0.]],\n",
              "\n",
              "       [[0., 0., 0., ..., 0., 0., 0.],\n",
              "        [0., 0., 0., ..., 0., 0., 0.],\n",
              "        [0., 0., 0., ..., 0., 0., 0.],\n",
              "        ...,\n",
              "        [0., 0., 0., ..., 0., 0., 0.],\n",
              "        [0., 0., 0., ..., 0., 0., 0.],\n",
              "        [0., 0., 0., ..., 0., 0., 0.]]])"
            ]
          },
          "metadata": {},
          "execution_count": 6
        }
      ],
      "source": [
        "X"
      ]
    },
    {
      "cell_type": "code",
      "execution_count": null,
      "metadata": {
        "colab": {
          "base_uri": "https://localhost:8080/"
        },
        "id": "dBh3CaBgsUS5",
        "outputId": "369d1361-a8e9-4a9b-c535-457fe8e2065e"
      },
      "outputs": [
        {
          "output_type": "execute_result",
          "data": {
            "text/plain": [
              "array([ 0.,  0.,  0., ..., 10., 10., 10.])"
            ]
          },
          "metadata": {},
          "execution_count": 7
        }
      ],
      "source": [
        "y"
      ]
    },
    {
      "cell_type": "code",
      "execution_count": null,
      "metadata": {
        "colab": {
          "base_uri": "https://localhost:8080/"
        },
        "id": "GGiuZlcSsUtZ",
        "outputId": "e4c7da03-18ad-4554-c140-ae8e94a6bd8e"
      },
      "outputs": [
        {
          "output_type": "execute_result",
          "data": {
            "text/plain": [
              "(330000, 28, 28)"
            ]
          },
          "metadata": {},
          "execution_count": 8
        }
      ],
      "source": [
        "X.shape"
      ]
    },
    {
      "cell_type": "code",
      "execution_count": null,
      "metadata": {
        "colab": {
          "base_uri": "https://localhost:8080/"
        },
        "id": "iwbNiVmdsVUI",
        "outputId": "d67c476c-bcd7-460a-836e-9fbd67f88c76"
      },
      "outputs": [
        {
          "output_type": "execute_result",
          "data": {
            "text/plain": [
              "(330000,)"
            ]
          },
          "metadata": {},
          "execution_count": 9
        }
      ],
      "source": [
        "y.shape"
      ]
    },
    {
      "cell_type": "markdown",
      "metadata": {
        "id": "kAIzNHK1sbLW"
      },
      "source": [
        "## Visualize:"
      ]
    },
    {
      "cell_type": "code",
      "execution_count": null,
      "metadata": {
        "colab": {
          "base_uri": "https://localhost:8080/",
          "height": 699
        },
        "id": "55vbnVClsV1H",
        "outputId": "5608ea0a-3862-462d-85af-c3ebf8401722"
      },
      "outputs": [
        {
          "output_type": "display_data",
          "data": {
            "text/plain": [
              "<Figure size 720x864 with 30 Axes>"
            ],
            "image/png": "[encoded data removed]"
          },
          "metadata": {
            "needs_background": "light"
          }
        }
      ],
      "source": [
        "import numpy as np\n",
        "import matplotlib.pyplot as plt\n",
        "\n",
        "# Generate 200,000 random images of size 28x28\n",
        "images = X\n",
        "\n",
        "# Select 30 random images\n",
        "indices = np.random.choice(30000 * num_classes, 30)\n",
        "\n",
        "# Create a 6x5 subplot grid to display the images\n",
        "fig, ax = plt.subplots(nrows=6, ncols=5, figsize=(10, 12))\n",
        "\n",
        "# Flatten the 2D grid of axes objects into a 1D array\n",
        "ax = ax.flatten()\n",
        "\n",
        "# Loop through the selected images and display them in the grid\n",
        "for i in range(len(indices)):\n",
        "    ax[i].imshow(images[indices[i]], cmap='gray')\n",
        "    ax[i].axis('off')\n",
        "    label = [class_name for class_name, index in labels.items() if index == y[indices[i]]][0]\n",
        "    ax[i].set_title(f\"{label}\")\n",
        "\n",
        "# Hide any unused axes\n",
        "for j in range(i+1, 6*5):\n",
        "    ax[j].axis('off')\n",
        "\n",
        "# Show the plot\n",
        "plt.show()"
      ]
    },
    {
      "cell_type": "markdown",
      "source": [
        "## Data Augmentation:"
      ],
      "metadata": {
        "id": "zCbLFulM4Xm4"
      }
    },
    {
      "cell_type": "code",
      "source": [
        "import numpy as np\n",
        "from tensorflow.keras.preprocessing.image import ImageDataGenerator\n",
        "\n",
        "# Define your data augmentation parameters\n",
        "datagen = ImageDataGenerator(\n",
        "    rotation_range=20,\n",
        "    width_shift_range=0.2,\n",
        "    height_shift_range=0.2,\n",
        "    shear_range=0.2,\n",
        "    zoom_range=0.2,\n",
        "    # horizontal_flip=True,\n",
        "    fill_mode='nearest')\n",
        "\n",
        "# Reshape X to a 4D tensor with shape (num_samples, height, width, channels)\n",
        "X = X.reshape(X.shape[0], X.shape[1], X.shape[2], 1)\n",
        "\n",
        "# Fit the ImageDataGenerator on your data to compute statistics such as mean and variance\n",
        "datagen.fit(X)\n",
        "\n",
        "# Generate augmented images and labels\n",
        "augmented_data = datagen.flow(X, y, batch_size=X.shape[0], shuffle=False)\n",
        "\n",
        "# Extract the augmented images and labels from the generator\n",
        "X_augmented, y_augmented = next(augmented_data)\n",
        "\n",
        "# Reshape the augmented images back to a 3D tensor with shape (num_samples, height, width)\n",
        "# X_augmented = X_augmented.reshape(X_augmented.shape[0], X_augmented.shape[1], X_augmented.shape[2])\n",
        "\n",
        "# Concatenate the original and augmented data\n",
        "# X = np.concatenate([X, X_augmented], axis=0)\n",
        "# y = np.concatenate([y, y_augmented], axis=0)"
      ],
      "metadata": {
        "id": "s1Mc4YhN11bH"
      },
      "execution_count": null,
      "outputs": []
    },
    {
      "cell_type": "code",
      "source": [
        "X_augmented.shape"
      ],
      "metadata": {
        "colab": {
          "base_uri": "https://localhost:8080/"
        },
        "id": "r5H3DMy62hpT",
        "outputId": "1082149f-aa14-4299-dfc1-d511d1c28d9b"
      },
      "execution_count": null,
      "outputs": [
        {
          "output_type": "execute_result",
          "data": {
            "text/plain": [
              "(330000, 28, 28, 1)"
            ]
          },
          "metadata": {},
          "execution_count": 15
        }
      ]
    },
    {
      "cell_type": "code",
      "source": [
        "previewDataset(X_augmented)"
      ],
      "metadata": {
        "colab": {
          "base_uri": "https://localhost:8080/",
          "height": 983
        },
        "id": "h3MleBk63RaT",
        "outputId": "6fc8e720-e784-4a28-9b31-66ba71ca36dc"
      },
      "execution_count": null,
      "outputs": [
        {
          "output_type": "display_data",
          "data": {
            "text/plain": [
              "<Figure size 1000x1200 with 30 Axes>"
            ],
            "image/png": "[encoded data removed]"
          },
          "metadata": {}
        }
      ]
    },
    {
      "cell_type": "markdown",
      "metadata": {
        "id": "LDN9bTJO9qdV"
      },
      "source": [
        "## Train and Test Split:"
      ]
    },
    {
      "cell_type": "code",
      "execution_count": null,
      "metadata": {
        "id": "bcPVbvoC9_5b"
      },
      "outputs": [],
      "source": [
        "X = X/255"
      ]
    },
    {
      "cell_type": "code",
      "execution_count": null,
      "metadata": {
        "id": "OrPAIIBO-UTZ"
      },
      "outputs": [],
      "source": [
        "from sklearn.model_selection import train_test_split\n",
        "X_train, X_test, y_train, y_test = train_test_split(X, y, random_state=43)"
      ]
    },
    {
      "cell_type": "code",
      "execution_count": null,
      "metadata": {
        "colab": {
          "base_uri": "https://localhost:8080/"
        },
        "id": "u4T3lLV7Au1L",
        "outputId": "2f8b383e-e19c-40a5-ad21-fde959b5a945"
      },
      "outputs": [
        {
          "output_type": "execute_result",
          "data": {
            "text/plain": [
              "(247500, 28, 28)"
            ]
          },
          "metadata": {},
          "execution_count": 13
        }
      ],
      "source": [
        "X_train.shape"
      ]
    },
    {
      "cell_type": "code",
      "execution_count": null,
      "metadata": {
        "colab": {
          "base_uri": "https://localhost:8080/"
        },
        "id": "v0yjiKqUAwfo",
        "outputId": "41e20ad9-7350-49f1-ff19-63a0d4d4a7d0"
      },
      "outputs": [
        {
          "output_type": "execute_result",
          "data": {
            "text/plain": [
              "(28, 28)"
            ]
          },
          "metadata": {},
          "execution_count": 14
        }
      ],
      "source": [
        "X_train[0].shape"
      ]
    },
    {
      "cell_type": "markdown",
      "metadata": {
        "id": "P_8cGWr0ACv4"
      },
      "source": [
        "## Model:"
      ]
    },
    {
      "cell_type": "code",
      "execution_count": null,
      "metadata": {
        "id": "PcnioySIAHSA"
      },
      "outputs": [],
      "source": [
        "from tensorflow import keras\n",
        "from tensorflow.keras import layers\n",
        "from tensorflow.keras.models import Sequential"
      ]
    },
    {
      "cell_type": "code",
      "execution_count": null,
      "metadata": {
        "id": "hFqujQ9A_zYB"
      },
      "outputs": [],
      "source": [
        "model = Sequential()\n",
        "\n",
        "image_shape = (28,28,1) \n",
        "model.add(layers.Conv2D(\n",
        "    input_shape=image_shape,\n",
        "    kernel_size=5,\n",
        "    filters=32,\n",
        "    padding='same',\n",
        "    activation='relu'\n",
        "))\n",
        "model.add(layers.MaxPooling2D())\n",
        "\n",
        "model.add(layers.Conv2D(\n",
        "    kernel_size=3,\n",
        "    filters=32,\n",
        "    padding='same',\n",
        "    activation='relu',\n",
        "))\n",
        "model.add(layers.MaxPooling2D())\n",
        "\n",
        "model.add(layers.Conv2D(\n",
        "    kernel_size=3,\n",
        "    filters=64,\n",
        "    padding='same',\n",
        "    activation= 'relu'\n",
        "))\n",
        "model.add(layers.MaxPooling2D())\n",
        "\n",
        "model.add(layers.Flatten())\n",
        "\n",
        "model.add(layers.Dense(\n",
        "    units=512,\n",
        "    activation='relu'\n",
        "))\n",
        "\n",
        "model.add(layers.Dense(\n",
        "    units=len(classes),\n",
        "    activation='softmax'\n",
        "))"
      ]
    },
    {
      "cell_type": "code",
      "execution_count": null,
      "metadata": {
        "colab": {
          "base_uri": "https://localhost:8080/"
        },
        "id": "OZWd3NrZBTTb",
        "outputId": "9c4d2b48-8447-49f8-c833-7b342373d315"
      },
      "outputs": [
        {
          "output_type": "stream",
          "name": "stdout",
          "text": [
            "Model: \"sequential_1\"\n",
            "_________________________________________________________________\n",
            " Layer (type)                Output Shape              Param #   \n",
            "=================================================================\n",
            " conv2d_3 (Conv2D)           (None, 28, 28, 32)        832       \n",
            "                                                                 \n",
            " max_pooling2d_3 (MaxPooling  (None, 14, 14, 32)       0         \n",
            " 2D)                                                             \n",
            "                                                                 \n",
            " conv2d_4 (Conv2D)           (None, 14, 14, 32)        9248      \n",
            "                                                                 \n",
            " max_pooling2d_4 (MaxPooling  (None, 7, 7, 32)         0         \n",
            " 2D)                                                             \n",
            "                                                                 \n",
            " conv2d_5 (Conv2D)           (None, 7, 7, 64)          18496     \n",
            "                                                                 \n",
            " max_pooling2d_5 (MaxPooling  (None, 3, 3, 64)         0         \n",
            " 2D)                                                             \n",
            "                                                                 \n",
            " flatten_1 (Flatten)         (None, 576)               0         \n",
            "                                                                 \n",
            " dense_2 (Dense)             (None, 512)               295424    \n",
            "                                                                 \n",
            " dense_3 (Dense)             (None, 11)                5643      \n",
            "                                                                 \n",
            "=================================================================\n",
            "Total params: 329,643\n",
            "Trainable params: 329,643\n",
            "Non-trainable params: 0\n",
            "_________________________________________________________________\n"
          ]
        }
      ],
      "source": [
        "model.summary()"
      ]
    },
    {
      "cell_type": "code",
      "execution_count": null,
      "metadata": {
        "colab": {
          "base_uri": "https://localhost:8080/"
        },
        "id": "E3V5xhaLB-_Y",
        "outputId": "82357e68-fc84-423b-c8e7-a6496c8a3dbf"
      },
      "outputs": [
        {
          "output_type": "stream",
          "name": "stdout",
          "text": [
            "Epoch 1/5\n"
          ]
        },
        {
          "output_type": "stream",
          "name": "stderr",
          "text": [
            "/usr/local/lib/python3.9/dist-packages/keras/backend.py:5585: UserWarning: \"`sparse_categorical_crossentropy` received `from_logits=True`, but the `output` argument was produced by a Softmax activation and thus does not represent logits. Was this intended?\n",
            "  output, from_logits = _get_logits(\n"
          ]
        },
        {
          "output_type": "stream",
          "name": "stdout",
          "text": [
            "7735/7735 [==============================] - 390s 50ms/step - loss: 0.2018 - accuracy: 0.9414\n",
            "Epoch 2/5\n",
            "7735/7735 [==============================] - 382s 49ms/step - loss: 0.1225 - accuracy: 0.9639\n",
            "Epoch 3/5\n",
            "7735/7735 [==============================] - 377s 49ms/step - loss: 0.1026 - accuracy: 0.9693\n",
            "Epoch 4/5\n",
            "7735/7735 [==============================] - 375s 48ms/step - loss: 0.0885 - accuracy: 0.9735\n",
            "Epoch 5/5\n",
            "7735/7735 [==============================] - 373s 48ms/step - loss: 0.0770 - accuracy: 0.9764\n"
          ]
        },
        {
          "output_type": "execute_result",
          "data": {
            "text/plain": [
              "<keras.callbacks.History at 0x7f74e8188a60>"
            ]
          },
          "metadata": {},
          "execution_count": 22
        }
      ],
      "source": [
        "model.compile(optimizer='adam',\n",
        "              loss=tf.keras.losses.SparseCategoricalCrossentropy(from_logits=True),\n",
        "              metrics=['accuracy'])\n",
        "              \n",
        "model.fit(X_train, y_train, epochs=5)      "
      ]
    },
    {
      "cell_type": "code",
      "execution_count": null,
      "metadata": {
        "colab": {
          "base_uri": "https://localhost:8080/"
        },
        "id": "tEBJ-HLGIfQO",
        "outputId": "8eb64953-27bf-4b14-a4d7-251dd2e08723"
      },
      "outputs": [
        {
          "output_type": "stream",
          "name": "stdout",
          "text": [
            "2579/2579 [==============================] - 36s 14ms/step - loss: 0.1235 - accuracy: 0.9644\n"
          ]
        },
        {
          "output_type": "execute_result",
          "data": {
            "text/plain": [
              "[0.12345795333385468, 0.9643515348434448]"
            ]
          },
          "metadata": {},
          "execution_count": 23
        }
      ],
      "source": [
        "model.evaluate(X_test, y_test)      # accuracy = 96%"
      ]
    },
    {
      "cell_type": "markdown",
      "metadata": {
        "id": "c80W4rKzIo69"
      },
      "source": [
        "## Save the model:"
      ]
    },
    {
      "cell_type": "code",
      "execution_count": null,
      "metadata": {
        "id": "zCdPRnIvCSP9"
      },
      "outputs": [],
      "source": [
        "model_name = 'sketch_recogination_model_cnn.h5'\n",
        "model.save(model_name, save_format='h5')"
      ]
    },
    {
      "cell_type": "markdown",
      "source": [
        "## Load the model:"
      ],
      "metadata": {
        "id": "NOMJuiBTn1_t"
      }
    },
    {
      "cell_type": "code",
      "source": [
        "from keras.models import load_model\n",
        "model = load_model('sketch_recogination_model_cnn.h5')"
      ],
      "metadata": {
        "id": "qMoAdU16n3mb"
      },
      "execution_count": null,
      "outputs": []
    },
    {
      "cell_type": "markdown",
      "metadata": {
        "id": "U6u7XQPYI_a_"
      },
      "source": [
        "## Prediction:"
      ]
    },
    {
      "cell_type": "code",
      "execution_count": null,
      "metadata": {
        "id": "2znvyDgfIkvG"
      },
      "outputs": [],
      "source": [
        "def predict(image):\n",
        "  image = image.reshape(1,28,28,1)\n",
        "  print(image.shape)\n",
        "  \n",
        "  label = (model.predict(image).reshape(num_classes))   # giving 2D output so 1D\n",
        "  label = tf.constant(label)\n",
        "  print(label)\n",
        "  predicted_index = tf.argmax(label)\n",
        "  class_name = [name for name, index in labels.items() if predicted_index == index][0]\n",
        "  return class_name"
      ]
    },
    {
      "cell_type": "code",
      "execution_count": null,
      "metadata": {
        "colab": {
          "base_uri": "https://localhost:8080/",
          "height": 139
        },
        "id": "oDHCqE-TLJ0Y",
        "outputId": "b8c2ccbf-9311-400d-c4c8-56580a7d4866"
      },
      "outputs": [
        {
          "output_type": "stream",
          "name": "stdout",
          "text": [
            "(1, 28, 28, 1)\n",
            "1/1 [==============================] - 0s 126ms/step\n",
            "tf.Tensor(\n",
            "[4.1958680e-05 7.3654097e-05 9.9348963e-06 1.2464391e-04 4.5056324e-05\n",
            " 6.9341941e-06 9.9935144e-01 1.9277354e-04 6.2248056e-08 1.1549817e-04\n",
            " 3.8082173e-05], shape=(11,), dtype=float32)\n"
          ]
        },
        {
          "output_type": "execute_result",
          "data": {
            "text/plain": [
              "'camera'"
            ],
            "application/vnd.google.colaboratory.intrinsic+json": {
              "type": "string"
            }
          },
          "metadata": {},
          "execution_count": 28
        }
      ],
      "source": [
        "predict(X_test[3])"
      ]
    },
    {
      "cell_type": "code",
      "execution_count": null,
      "metadata": {
        "colab": {
          "base_uri": "https://localhost:8080/"
        },
        "id": "lZUpCyE6JqYv",
        "outputId": "c318ceb1-0d4c-496d-9361-28bc009f4d81"
      },
      "outputs": [
        {
          "output_type": "execute_result",
          "data": {
            "text/plain": [
              "(28, 28)"
            ]
          },
          "metadata": {},
          "execution_count": 29
        }
      ],
      "source": [
        "X_test[3].shape"
      ]
    },
    {
      "cell_type": "code",
      "execution_count": null,
      "metadata": {
        "colab": {
          "base_uri": "https://localhost:8080/",
          "height": 282
        },
        "id": "Pn1YfjthJwh4",
        "outputId": "2eb8268a-cd72-46a4-a8aa-b05aa2e34319"
      },
      "outputs": [
        {
          "output_type": "execute_result",
          "data": {
            "text/plain": [
              "<matplotlib.image.AxesImage at 0x7f74dbee3be0>"
            ]
          },
          "metadata": {},
          "execution_count": 31
        },
        {
          "output_type": "display_data",
          "data": {
            "text/plain": [
              "<Figure size 432x288 with 1 Axes>"
            ],
            "image/png": "[encoded data removed]"
          },
          "metadata": {
            "needs_background": "light"
          }
        }
      ],
      "source": [
        "plt.imshow(X_test[3], cmap='gray')"
      ]
    },
    {
      "cell_type": "code",
      "execution_count": null,
      "metadata": {
        "colab": {
          "base_uri": "https://localhost:8080/",
          "height": 35
        },
        "id": "nauaH_-BLB2q",
        "outputId": "94c0b16f-47d5-4d6d-8b73-ac9d02ba669b"
      },
      "outputs": [
        {
          "output_type": "execute_result",
          "data": {
            "text/plain": [
              "'camera'"
            ],
            "application/vnd.google.colaboratory.intrinsic+json": {
              "type": "string"
            }
          },
          "metadata": {},
          "execution_count": 33
        }
      ],
      "source": [
        "[name for name, index in labels.items() if y_test[3] == index][0]"
      ]
    },
    {
      "cell_type": "markdown",
      "metadata": {
        "id": "qvvN4wE9Pb2T"
      },
      "source": [
        "## Application:"
      ]
    },
    {
      "cell_type": "code",
      "execution_count": null,
      "metadata": {
        "id": "mQwhCQ0qSrve"
      },
      "outputs": [],
      "source": [
        "def predict_fn(image):\n",
        "\n",
        "  # preprocessing the size:\n",
        "  # Load image with shape (150, 300, 3)\n",
        "  resized_image = tf.image.resize(image, (28, 28))              # Resize image to (28, 28)\n",
        "  grayscale_image = tf.image.rgb_to_grayscale(resized_image)    # Convert image to grayscale\n",
        "  # final_image = tf.expand_dims(grayscale_image, axis=-1)        # Add extra dimension to image\n",
        "\n",
        "  image = np.array(grayscale_image)\n",
        "  # print(image.shape)\n",
        "\n",
        "  # model requirements:\n",
        "  image = image.reshape(1,28,28,1)\n",
        "  # print(image.shape)\n",
        "\n",
        "  plt.imshow(image.reshape(28,28,1), cmap='gray')\n",
        "  label = tf.constant(model.predict(image).reshape(num_classes))   # giving 2D output so 1D\n",
        "  # print(label)\n",
        "  # --\n",
        "  # all\n",
        "  # predictions = (model.predict(image).reshape(-1))   # giving 2D output so 1D\n",
        "  # predictions = predictions.tolist()\n",
        "  # print(predictions)\n",
        "  # confidences = {class_name: predictions[labels[class_name]] for class_name in labels}\n",
        "  # return confidences\n",
        "\n",
        "  # ---\n",
        "\n",
        "\n",
        "  # predict:\n",
        "  predicted_index = tf.argmax(label)\n",
        "  class_name = [name for name, index in labels.items() if predicted_index == index][0]\n",
        "  return class_name"
      ]
    },
    {
      "cell_type": "code",
      "execution_count": null,
      "metadata": {
        "colab": {
          "base_uri": "https://localhost:8080/",
          "height": 680
        },
        "id": "gJCsgpH2PZVZ",
        "outputId": "412cb5ac-ab48-4867-a680-f4faf647cba5"
      },
      "outputs": [
        {
          "output_type": "stream",
          "name": "stderr",
          "text": [
            "/usr/local/lib/python3.9/dist-packages/gradio/deprecation.py:40: UserWarning: `height` is deprecated in `Interface()`, please use it within `launch()` instead.\n",
            "  warnings.warn(value)\n"
          ]
        },
        {
          "output_type": "stream",
          "name": "stdout",
          "text": [
            "Colab notebook detected. This cell will run indefinitely so that you can see errors and logs. To turn off, set debug=False in launch().\n",
            "Running on public URL: https://1a4a22c6dc89774104.gradio.live\n",
            "\n",
            "This share link expires in 72 hours. For free permanent hosting and GPU upgrades (NEW!), check out Spaces: https://huggingface.co/spaces\n"
          ]
        },
        {
          "output_type": "display_data",
          "data": {
            "text/plain": [
              "<IPython.core.display.HTML object>"
            ],
            "text/html": [
              "<div><iframe src=\"https://1a4a22c6dc89774104.gradio.live\" width=\"100%\" height=\"500\" allow=\"autoplay; camera; microphone; clipboard-read; clipboard-write;\" frameborder=\"0\" allowfullscreen></iframe></div>"
            ]
          },
          "metadata": {}
        },
        {
          "output_type": "stream",
          "name": "stdout",
          "text": [
            "Keyboard interruption in main thread... closing server.\n",
            "Killing tunnel 127.0.0.1:7860 <> https://1a4a22c6dc89774104.gradio.live\n"
          ]
        },
        {
          "output_type": "execute_result",
          "data": {
            "text/plain": []
          },
          "metadata": {},
          "execution_count": 51
        }
      ],
      "source": [
        "import gradio as gr\n",
        "\n",
        "gr.Interface(fn=predict_fn, \n",
        "             inputs=\"paint\", \n",
        "             outputs=\"label\", height=100).launch(share=True, debug=True)\n"
      ]
    },
    {
      "cell_type": "code",
      "execution_count": null,
      "metadata": {
        "id": "cYQq_EG0LSJM"
      },
      "outputs": [],
      "source": [
        "pip install -U gradio\n"
      ]
    }
  ]
}